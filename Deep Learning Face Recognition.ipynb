{
 "cells": [
  {
   "cell_type": "code",
   "execution_count": 805,
   "metadata": {},
   "outputs": [],
   "source": [
    "import warnings\n",
    "\n",
    "from sklearn.datasets import fetch_lfw_people\n",
    "from sklearn.decomposition import PCA\n",
    "from sklearn.metrics import classification_report, accuracy_score\n",
    "from sklearn.model_selection import train_test_split\n",
    "from sklearn.neural_network import MLPClassifier"
   ]
  },
  {
   "cell_type": "code",
   "execution_count": 806,
   "metadata": {},
   "outputs": [],
   "source": [
    "from keras.layers.core import Dense, Dropout, Activation\n",
    "from keras.models import Sequential\n",
    "from keras.optimizers import RMSprop\n",
    "from keras.optimizers import Adam\n",
    "from keras.optimizers import SGD\n",
    "from keras.utils import np_utils"
   ]
  },
  {
   "cell_type": "code",
   "execution_count": 807,
   "metadata": {},
   "outputs": [],
   "source": [
    "# Load data\n",
    "lfw_people = fetch_lfw_people(min_faces_per_person=100)\n",
    "lfw_dataset= fetch_lfw_people(min_faces_per_person=100, resize=0.4)"
   ]
  },
  {
   "cell_type": "code",
   "execution_count": 911,
   "metadata": {},
   "outputs": [],
   "source": [
    "NB_EPOCH = 30\n",
    "BATCH_SIZE = 100\n",
    "VERBOSE = 1"
   ]
  },
  {
   "cell_type": "code",
   "execution_count": 912,
   "metadata": {},
   "outputs": [],
   "source": [
    "OPTIMIZER = SGD() \n",
    "N_HIDDEN = 128\n",
    "VALIDATION_SPLIT=0.1"
   ]
  },
  {
   "cell_type": "code",
   "execution_count": 913,
   "metadata": {},
   "outputs": [],
   "source": [
    "DROPOUT = 0.1"
   ]
  },
  {
   "cell_type": "code",
   "execution_count": 914,
   "metadata": {},
   "outputs": [],
   "source": [
    "# _, h, w = lfw_dataset.images.shape\n",
    "X = lfw_dataset.data\n",
    "y = lfw_dataset.target\n",
    "target_names = lfw_dataset.target_names"
   ]
  },
  {
   "cell_type": "code",
   "execution_count": 915,
   "metadata": {},
   "outputs": [
    {
     "data": {
      "text/plain": [
       "(1140, 1850)"
      ]
     },
     "execution_count": 915,
     "metadata": {},
     "output_type": "execute_result"
    }
   ],
   "source": [
    "X.shape"
   ]
  },
  {
   "cell_type": "code",
   "execution_count": 916,
   "metadata": {},
   "outputs": [],
   "source": [
    "ori = lfw_people.images.shape"
   ]
  },
  {
   "cell_type": "code",
   "execution_count": 917,
   "metadata": {},
   "outputs": [
    {
     "data": {
      "text/plain": [
       "(1140, 62, 47)"
      ]
     },
     "execution_count": 917,
     "metadata": {},
     "output_type": "execute_result"
    }
   ],
   "source": [
    "ori"
   ]
  },
  {
   "cell_type": "code",
   "execution_count": 918,
   "metadata": {},
   "outputs": [],
   "source": [
    "resized = lfw_dataset.images.shape"
   ]
  },
  {
   "cell_type": "code",
   "execution_count": 919,
   "metadata": {},
   "outputs": [
    {
     "data": {
      "text/plain": [
       "(1140, 50, 37)"
      ]
     },
     "execution_count": 919,
     "metadata": {},
     "output_type": "execute_result"
    }
   ],
   "source": [
    "resized"
   ]
  },
  {
   "cell_type": "code",
   "execution_count": 920,
   "metadata": {},
   "outputs": [
    {
     "data": {
      "text/plain": [
       "(1140,)"
      ]
     },
     "execution_count": 920,
     "metadata": {},
     "output_type": "execute_result"
    }
   ],
   "source": [
    "y.shape"
   ]
  },
  {
   "cell_type": "code",
   "execution_count": 921,
   "metadata": {},
   "outputs": [],
   "source": [
    "NB_CLASSES = 5"
   ]
  },
  {
   "cell_type": "code",
   "execution_count": 922,
   "metadata": {},
   "outputs": [],
   "source": [
    "X_train, X_test, y_train, y_test = train_test_split(X, y, test_size=0.2)"
   ]
  },
  {
   "cell_type": "code",
   "execution_count": 923,
   "metadata": {},
   "outputs": [
    {
     "name": "stdout",
     "output_type": "stream",
     "text": [
      "(912, 1850)\n"
     ]
    }
   ],
   "source": [
    "print(X_train.shape)"
   ]
  },
  {
   "cell_type": "code",
   "execution_count": 924,
   "metadata": {},
   "outputs": [],
   "source": [
    "RESHAPED = 1850"
   ]
  },
  {
   "cell_type": "code",
   "execution_count": 925,
   "metadata": {},
   "outputs": [],
   "source": [
    "X_train = X_train.astype('float32')\n",
    "X_test = X_test.astype('float32')"
   ]
  },
  {
   "cell_type": "code",
   "execution_count": 926,
   "metadata": {},
   "outputs": [],
   "source": [
    "X_train /= 255\n",
    "X_test /= 255"
   ]
  },
  {
   "cell_type": "code",
   "execution_count": 927,
   "metadata": {},
   "outputs": [
    {
     "name": "stdout",
     "output_type": "stream",
     "text": [
      "912 train samples\n",
      "228 test samples\n"
     ]
    }
   ],
   "source": [
    "print(X_train.shape[0], 'train samples')\n",
    "print(X_test.shape[0], 'test samples')"
   ]
  },
  {
   "cell_type": "code",
   "execution_count": 928,
   "metadata": {},
   "outputs": [],
   "source": [
    "y_train = np_utils.to_categorical(y_train, NB_CLASSES)\n",
    "y_test = np_utils.to_categorical(y_test, NB_CLASSES)"
   ]
  },
  {
   "cell_type": "code",
   "execution_count": 929,
   "metadata": {},
   "outputs": [],
   "source": [
    "model = Sequential()\n",
    "model.add(Dense(N_HIDDEN, input_shape=(RESHAPED,)))\n",
    "model.add(Activation('sigmoid'))\n",
    "model.add(Dense(N_HIDDEN))\n",
    "model.add(Activation('sigmoid'))\n",
    "model.add(Dense(NB_CLASSES))\n",
    "model.add(Activation('sigmoid'))"
   ]
  },
  {
   "cell_type": "code",
   "execution_count": 930,
   "metadata": {},
   "outputs": [
    {
     "name": "stdout",
     "output_type": "stream",
     "text": [
      "Train on 820 samples, validate on 92 samples\n",
      "Epoch 1/30\n",
      "820/820 [==============================] - 4s 4ms/step - loss: 1.6768 - acc: 0.2037 - val_loss: 1.5842 - val_acc: 0.1957\n",
      "Epoch 2/30\n",
      "820/820 [==============================] - 0s 117us/step - loss: 1.5574 - acc: 0.2037 - val_loss: 1.5063 - val_acc: 0.1957\n",
      "Epoch 3/30\n",
      "820/820 [==============================] - 0s 112us/step - loss: 1.4985 - acc: 0.4232 - val_loss: 1.4695 - val_acc: 0.4783\n",
      "Epoch 4/30\n",
      "820/820 [==============================] - 0s 122us/step - loss: 1.4669 - acc: 0.4695 - val_loss: 1.4454 - val_acc: 0.4783\n",
      "Epoch 5/30\n",
      "820/820 [==============================] - 0s 107us/step - loss: 1.4467 - acc: 0.4695 - val_loss: 1.4321 - val_acc: 0.4783\n",
      "Epoch 6/30\n",
      "820/820 [==============================] - 0s 122us/step - loss: 1.4343 - acc: 0.4695 - val_loss: 1.4212 - val_acc: 0.4783\n",
      "Epoch 7/30\n",
      "820/820 [==============================] - 0s 127us/step - loss: 1.4246 - acc: 0.4695 - val_loss: 1.4164 - val_acc: 0.4783\n",
      "Epoch 8/30\n",
      "820/820 [==============================] - 0s 112us/step - loss: 1.4186 - acc: 0.4695 - val_loss: 1.4102 - val_acc: 0.4783\n",
      "Epoch 9/30\n",
      "820/820 [==============================] - 0s 132us/step - loss: 1.4137 - acc: 0.4695 - val_loss: 1.4073 - val_acc: 0.4783\n",
      "Epoch 10/30\n",
      "820/820 [==============================] - 0s 122us/step - loss: 1.4114 - acc: 0.4695 - val_loss: 1.4037 - val_acc: 0.4783\n",
      "Epoch 11/30\n",
      "820/820 [==============================] - 0s 117us/step - loss: 1.4081 - acc: 0.4695 - val_loss: 1.4010 - val_acc: 0.4783\n",
      "Epoch 12/30\n",
      "820/820 [==============================] - 0s 117us/step - loss: 1.4062 - acc: 0.4695 - val_loss: 1.3991 - val_acc: 0.4783\n",
      "Epoch 13/30\n",
      "820/820 [==============================] - 0s 122us/step - loss: 1.4047 - acc: 0.4695 - val_loss: 1.3998 - val_acc: 0.4783\n",
      "Epoch 14/30\n",
      "820/820 [==============================] - 0s 122us/step - loss: 1.4041 - acc: 0.4695 - val_loss: 1.3998 - val_acc: 0.4783\n",
      "Epoch 15/30\n",
      "820/820 [==============================] - 0s 117us/step - loss: 1.4034 - acc: 0.4695 - val_loss: 1.3995 - val_acc: 0.4783\n",
      "Epoch 16/30\n",
      "820/820 [==============================] - 0s 117us/step - loss: 1.4030 - acc: 0.4695 - val_loss: 1.3994 - val_acc: 0.4783\n",
      "Epoch 17/30\n",
      "820/820 [==============================] - 0s 127us/step - loss: 1.4027 - acc: 0.4695 - val_loss: 1.4002 - val_acc: 0.4783\n",
      "Epoch 18/30\n",
      "820/820 [==============================] - 0s 117us/step - loss: 1.4025 - acc: 0.4695 - val_loss: 1.3989 - val_acc: 0.4783\n",
      "Epoch 19/30\n",
      "820/820 [==============================] - 0s 117us/step - loss: 1.4023 - acc: 0.4695 - val_loss: 1.3994 - val_acc: 0.4783\n",
      "Epoch 20/30\n",
      "820/820 [==============================] - 0s 136us/step - loss: 1.4021 - acc: 0.4695 - val_loss: 1.3997 - val_acc: 0.4783\n",
      "Epoch 21/30\n",
      "820/820 [==============================] - 0s 107us/step - loss: 1.4020 - acc: 0.4695 - val_loss: 1.3997 - val_acc: 0.4783\n",
      "Epoch 22/30\n",
      "820/820 [==============================] - 0s 122us/step - loss: 1.4019 - acc: 0.4695 - val_loss: 1.3987 - val_acc: 0.4783\n",
      "Epoch 23/30\n",
      "820/820 [==============================] - 0s 122us/step - loss: 1.4018 - acc: 0.4695 - val_loss: 1.3971 - val_acc: 0.4783\n",
      "Epoch 24/30\n",
      "820/820 [==============================] - 0s 127us/step - loss: 1.4016 - acc: 0.4695 - val_loss: 1.3978 - val_acc: 0.4783\n",
      "Epoch 25/30\n",
      "820/820 [==============================] - 0s 132us/step - loss: 1.4016 - acc: 0.4695 - val_loss: 1.3977 - val_acc: 0.4783\n",
      "Epoch 26/30\n",
      "820/820 [==============================] - 0s 122us/step - loss: 1.4014 - acc: 0.4695 - val_loss: 1.3978 - val_acc: 0.4783\n",
      "Epoch 27/30\n",
      "820/820 [==============================] - 0s 122us/step - loss: 1.4014 - acc: 0.4695 - val_loss: 1.3992 - val_acc: 0.4783\n",
      "Epoch 28/30\n",
      "820/820 [==============================] - 0s 132us/step - loss: 1.4016 - acc: 0.4695 - val_loss: 1.3975 - val_acc: 0.4783\n",
      "Epoch 29/30\n",
      "820/820 [==============================] - 0s 122us/step - loss: 1.4012 - acc: 0.4695 - val_loss: 1.3974 - val_acc: 0.4783\n",
      "Epoch 30/30\n",
      "820/820 [==============================] - 0s 132us/step - loss: 1.4011 - acc: 0.4695 - val_loss: 1.3982 - val_acc: 0.4783\n",
      "_________________________________________________________________\n",
      "Layer (type)                 Output Shape              Param #   \n",
      "=================================================================\n",
      "dense_268 (Dense)            (None, 128)               236928    \n",
      "_________________________________________________________________\n",
      "activation_268 (Activation)  (None, 128)               0         \n",
      "_________________________________________________________________\n",
      "dense_269 (Dense)            (None, 128)               16512     \n",
      "_________________________________________________________________\n",
      "activation_269 (Activation)  (None, 128)               0         \n",
      "_________________________________________________________________\n",
      "dense_270 (Dense)            (None, 5)                 645       \n",
      "_________________________________________________________________\n",
      "activation_270 (Activation)  (None, 5)                 0         \n",
      "=================================================================\n",
      "Total params: 254,085\n",
      "Trainable params: 254,085\n",
      "Non-trainable params: 0\n",
      "_________________________________________________________________\n"
     ]
    }
   ],
   "source": [
    "model.compile(loss='categorical_crossentropy', optimizer=OPTIMIZER, metrics=['accuracy'])\n",
    "history=model.fit(X_train, y_train, batch_size=BATCH_SIZE, epochs=NB_EPOCH,verbose=VERBOSE, validation_split=VALIDATION_SPLIT)\n",
    "model.summary()"
   ]
  },
  {
   "cell_type": "code",
   "execution_count": 931,
   "metadata": {},
   "outputs": [
    {
     "name": "stdout",
     "output_type": "stream",
     "text": [
      "228/228 [==============================] - 0s 193us/step\n",
      "Test score: 1.4217835748404788\n",
      "Test accuracy: 0.44298245614035087\n"
     ]
    }
   ],
   "source": [
    "score = model.evaluate(X_test, y_test, verbose=VERBOSE)\n",
    "print(\"Test score:\", score[0])\n",
    "print('Test accuracy:', score[1])"
   ]
  },
  {
   "cell_type": "code",
   "execution_count": null,
   "metadata": {},
   "outputs": [],
   "source": []
  },
  {
   "cell_type": "code",
   "execution_count": null,
   "metadata": {},
   "outputs": [],
   "source": []
  }
 ],
 "metadata": {
  "kernelspec": {
   "display_name": "Python 3",
   "language": "python",
   "name": "python3"
  },
  "language_info": {
   "codemirror_mode": {
    "name": "ipython",
    "version": 3
   },
   "file_extension": ".py",
   "mimetype": "text/x-python",
   "name": "python",
   "nbconvert_exporter": "python",
   "pygments_lexer": "ipython3",
   "version": "3.6.8rc1"
  }
 },
 "nbformat": 4,
 "nbformat_minor": 2
}
