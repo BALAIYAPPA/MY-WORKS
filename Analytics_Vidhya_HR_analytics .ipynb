{
 "cells": [
  {
   "cell_type": "markdown",
   "metadata": {},
   "source": [
    "### JanataHack: HR Analytics\n",
    "Challenge Date & Time: 08-05-2020 11:59 PM to 10-05-2020 11:59 PM\n",
    "\n",
    "Public Leader board Name - Bala Iyappa\n",
    "\n",
    "Link for leaderboard- https://datahack.analyticsvidhya.com/contest/janatahack-hr-analytics/#LeaderBoard"
   ]
  },
  {
   "cell_type": "markdown",
   "metadata": {},
   "source": [
    "### Importing the required libraries."
   ]
  },
  {
   "cell_type": "code",
   "execution_count": 2,
   "metadata": {},
   "outputs": [],
   "source": [
    "#import required liberies\n",
    "import pandas as pd\n",
    "import numpy as np                 # For mathematical calculations \n",
    "import seaborn as sns              # For data visualization \n",
    "import matplotlib.pyplot as plt    # For plotting graphs \n",
    "%matplotlib inline \n",
    "import warnings                    # To ignore any warnings\n",
    "warnings.filterwarnings('ignore')\n",
    "\n",
    "from sklearn.preprocessing import OrdinalEncoder, LabelEncoder\n",
    "from sklearn.model_selection import train_test_split\n",
    "from sklearn.linear_model import LogisticRegression \n",
    "from sklearn.ensemble import RandomForestClassifier\n",
    "from sklearn.metrics import accuracy_score\n",
    "from sklearn import preprocessing"
   ]
  },
  {
   "cell_type": "code",
   "execution_count": 3,
   "metadata": {},
   "outputs": [],
   "source": [
    "# set global configrations\n",
    "pd.options.display.max_columns=None"
   ]
  },
  {
   "cell_type": "code",
   "execution_count": 4,
   "metadata": {},
   "outputs": [],
   "source": [
    "#import data\n",
    "train = pd.read_csv('C:/Users/SiviSoft/Desktop/Bala/AV/HR Analytics/train.csv', header=0)"
   ]
  },
  {
   "cell_type": "markdown",
   "metadata": {},
   "source": [
    "### Data Preprocessing"
   ]
  },
  {
   "cell_type": "code",
   "execution_count": 5,
   "metadata": {},
   "outputs": [],
   "source": [
    "train['gender'].fillna(train['gender'].mode()[0], inplace=True) \n",
    "train['enrolled_university'].fillna(train['enrolled_university'].mode()[0], inplace=True)\n",
    "train['education_level'].fillna(train['education_level'].mode()[0], inplace=True)\n",
    "train['major_discipline'].fillna(train['major_discipline'].mode()[0], inplace=True)\n",
    "train['experience'].fillna(train['experience'].mode()[0], inplace=True)\n",
    "train['company_size'].fillna(train['company_size'].mode()[0], inplace=True)\n",
    "train['company_type'].fillna(train['company_type'].mode()[0], inplace=True)\n",
    "train['last_new_job'].fillna(train['last_new_job'].mode()[0], inplace=True)\n",
    "\n"
   ]
  },
  {
   "cell_type": "code",
   "execution_count": 6,
   "metadata": {},
   "outputs": [
    {
     "name": "stdout",
     "output_type": "stream",
     "text": [
      "<class 'pandas.core.frame.DataFrame'>\n",
      "RangeIndex: 18359 entries, 0 to 18358\n",
      "Data columns (total 14 columns):\n",
      "enrollee_id               18359 non-null int64\n",
      "city                      18359 non-null object\n",
      "city_development_index    18359 non-null float64\n",
      "gender                    18359 non-null object\n",
      "relevent_experience       18359 non-null object\n",
      "enrolled_university       18359 non-null object\n",
      "education_level           18359 non-null object\n",
      "major_discipline          18359 non-null object\n",
      "experience                18359 non-null object\n",
      "company_size              18359 non-null object\n",
      "company_type              18359 non-null object\n",
      "last_new_job              18359 non-null object\n",
      "training_hours            18359 non-null int64\n",
      "target                    18359 non-null int64\n",
      "dtypes: float64(1), int64(3), object(10)\n",
      "memory usage: 2.0+ MB\n"
     ]
    }
   ],
   "source": [
    "train.info()"
   ]
  },
  {
   "cell_type": "code",
   "execution_count": 7,
   "metadata": {},
   "outputs": [],
   "source": [
    "train_obj=train.select_dtypes(include='object')\n",
    "train_num=train.select_dtypes(include=['int64','float64'])"
   ]
  },
  {
   "cell_type": "code",
   "execution_count": 8,
   "metadata": {},
   "outputs": [],
   "source": [
    "odr = OrdinalEncoder()\n",
    "train_obj[:] = odr.fit_transform(train_obj[:])"
   ]
  },
  {
   "cell_type": "code",
   "execution_count": 9,
   "metadata": {},
   "outputs": [],
   "source": [
    "df=pd.concat([train_obj,train_num],axis=1)"
   ]
  },
  {
   "cell_type": "code",
   "execution_count": 10,
   "metadata": {},
   "outputs": [
    {
     "data": {
      "text/html": [
       "<div>\n",
       "<style scoped>\n",
       "    .dataframe tbody tr th:only-of-type {\n",
       "        vertical-align: middle;\n",
       "    }\n",
       "\n",
       "    .dataframe tbody tr th {\n",
       "        vertical-align: top;\n",
       "    }\n",
       "\n",
       "    .dataframe thead th {\n",
       "        text-align: right;\n",
       "    }\n",
       "</style>\n",
       "<table border=\"1\" class=\"dataframe\">\n",
       "  <thead>\n",
       "    <tr style=\"text-align: right;\">\n",
       "      <th></th>\n",
       "      <th>city</th>\n",
       "      <th>gender</th>\n",
       "      <th>relevent_experience</th>\n",
       "      <th>enrolled_university</th>\n",
       "      <th>education_level</th>\n",
       "      <th>major_discipline</th>\n",
       "      <th>experience</th>\n",
       "      <th>company_size</th>\n",
       "      <th>company_type</th>\n",
       "      <th>last_new_job</th>\n",
       "      <th>enrollee_id</th>\n",
       "      <th>city_development_index</th>\n",
       "      <th>training_hours</th>\n",
       "      <th>target</th>\n",
       "    </tr>\n",
       "  </thead>\n",
       "  <tbody>\n",
       "    <tr>\n",
       "      <td>18354</td>\n",
       "      <td>5</td>\n",
       "      <td>1</td>\n",
       "      <td>0</td>\n",
       "      <td>0</td>\n",
       "      <td>0</td>\n",
       "      <td>5</td>\n",
       "      <td>15</td>\n",
       "      <td>7</td>\n",
       "      <td>5</td>\n",
       "      <td>0</td>\n",
       "      <td>25366</td>\n",
       "      <td>0.920</td>\n",
       "      <td>71</td>\n",
       "      <td>0</td>\n",
       "    </tr>\n",
       "    <tr>\n",
       "      <td>18355</td>\n",
       "      <td>49</td>\n",
       "      <td>1</td>\n",
       "      <td>1</td>\n",
       "      <td>2</td>\n",
       "      <td>0</td>\n",
       "      <td>2</td>\n",
       "      <td>6</td>\n",
       "      <td>4</td>\n",
       "      <td>5</td>\n",
       "      <td>0</td>\n",
       "      <td>25545</td>\n",
       "      <td>0.920</td>\n",
       "      <td>160</td>\n",
       "      <td>0</td>\n",
       "    </tr>\n",
       "    <tr>\n",
       "      <td>18356</td>\n",
       "      <td>13</td>\n",
       "      <td>1</td>\n",
       "      <td>0</td>\n",
       "      <td>2</td>\n",
       "      <td>2</td>\n",
       "      <td>5</td>\n",
       "      <td>2</td>\n",
       "      <td>4</td>\n",
       "      <td>5</td>\n",
       "      <td>2</td>\n",
       "      <td>11514</td>\n",
       "      <td>0.926</td>\n",
       "      <td>18</td>\n",
       "      <td>0</td>\n",
       "    </tr>\n",
       "    <tr>\n",
       "      <td>18357</td>\n",
       "      <td>103</td>\n",
       "      <td>1</td>\n",
       "      <td>0</td>\n",
       "      <td>2</td>\n",
       "      <td>0</td>\n",
       "      <td>5</td>\n",
       "      <td>21</td>\n",
       "      <td>0</td>\n",
       "      <td>5</td>\n",
       "      <td>2</td>\n",
       "      <td>1689</td>\n",
       "      <td>0.939</td>\n",
       "      <td>41</td>\n",
       "      <td>0</td>\n",
       "    </tr>\n",
       "    <tr>\n",
       "      <td>18358</td>\n",
       "      <td>7</td>\n",
       "      <td>0</td>\n",
       "      <td>0</td>\n",
       "      <td>2</td>\n",
       "      <td>0</td>\n",
       "      <td>5</td>\n",
       "      <td>21</td>\n",
       "      <td>1</td>\n",
       "      <td>5</td>\n",
       "      <td>1</td>\n",
       "      <td>5995</td>\n",
       "      <td>0.794</td>\n",
       "      <td>84</td>\n",
       "      <td>0</td>\n",
       "    </tr>\n",
       "  </tbody>\n",
       "</table>\n",
       "</div>"
      ],
      "text/plain": [
       "       city  gender  relevent_experience  enrolled_university  \\\n",
       "18354     5       1                    0                    0   \n",
       "18355    49       1                    1                    2   \n",
       "18356    13       1                    0                    2   \n",
       "18357   103       1                    0                    2   \n",
       "18358     7       0                    0                    2   \n",
       "\n",
       "       education_level  major_discipline  experience  company_size  \\\n",
       "18354                0                 5          15             7   \n",
       "18355                0                 2           6             4   \n",
       "18356                2                 5           2             4   \n",
       "18357                0                 5          21             0   \n",
       "18358                0                 5          21             1   \n",
       "\n",
       "       company_type  last_new_job  enrollee_id  city_development_index  \\\n",
       "18354             5             0        25366                   0.920   \n",
       "18355             5             0        25545                   0.920   \n",
       "18356             5             2        11514                   0.926   \n",
       "18357             5             2         1689                   0.939   \n",
       "18358             5             1         5995                   0.794   \n",
       "\n",
       "       training_hours  target  \n",
       "18354              71       0  \n",
       "18355             160       0  \n",
       "18356              18       0  \n",
       "18357              41       0  \n",
       "18358              84       0  "
      ]
     },
     "execution_count": 10,
     "metadata": {},
     "output_type": "execute_result"
    }
   ],
   "source": [
    "df.tail()"
   ]
  },
  {
   "cell_type": "code",
   "execution_count": 11,
   "metadata": {},
   "outputs": [
    {
     "data": {
      "text/plain": [
       "Index(['city', 'gender', 'relevent_experience', 'enrolled_university',\n",
       "       'education_level', 'major_discipline', 'experience', 'company_size',\n",
       "       'company_type', 'last_new_job', 'enrollee_id', 'city_development_index',\n",
       "       'training_hours', 'target'],\n",
       "      dtype='object')"
      ]
     },
     "execution_count": 11,
     "metadata": {},
     "output_type": "execute_result"
    }
   ],
   "source": [
    "df.columns"
   ]
  },
  {
   "cell_type": "code",
   "execution_count": 12,
   "metadata": {},
   "outputs": [
    {
     "data": {
      "text/plain": [
       "array([[<matplotlib.axes._subplots.AxesSubplot object at 0x000001E806FB7548>,\n",
       "        <matplotlib.axes._subplots.AxesSubplot object at 0x000001E806FE3E88>,\n",
       "        <matplotlib.axes._subplots.AxesSubplot object at 0x000001E80701EA88>,\n",
       "        <matplotlib.axes._subplots.AxesSubplot object at 0x000001E807055DC8>],\n",
       "       [<matplotlib.axes._subplots.AxesSubplot object at 0x000001E80708DE08>,\n",
       "        <matplotlib.axes._subplots.AxesSubplot object at 0x000001E8070C5F48>,\n",
       "        <matplotlib.axes._subplots.AxesSubplot object at 0x000001E807101088>,\n",
       "        <matplotlib.axes._subplots.AxesSubplot object at 0x000001E807139188>],\n",
       "       [<matplotlib.axes._subplots.AxesSubplot object at 0x000001E80713FD48>,\n",
       "        <matplotlib.axes._subplots.AxesSubplot object at 0x000001E807177F48>,\n",
       "        <matplotlib.axes._subplots.AxesSubplot object at 0x000001E8071E4448>,\n",
       "        <matplotlib.axes._subplots.AxesSubplot object at 0x000001E80721C588>],\n",
       "       [<matplotlib.axes._subplots.AxesSubplot object at 0x000001E807258E88>,\n",
       "        <matplotlib.axes._subplots.AxesSubplot object at 0x000001E80728C788>,\n",
       "        <matplotlib.axes._subplots.AxesSubplot object at 0x000001E8072C48C8>,\n",
       "        <matplotlib.axes._subplots.AxesSubplot object at 0x000001E8072FBA08>]],\n",
       "      dtype=object)"
      ]
     },
     "execution_count": 12,
     "metadata": {},
     "output_type": "execute_result"
    },
    {
     "data": {
      "image/png": "[encoded data removed]",
      "text/plain": [
       "<Figure size 1080x1080 with 16 Axes>"
      ]
     },
     "metadata": {
      "needs_background": "light"
     },
     "output_type": "display_data"
    }
   ],
   "source": [
    "df.hist(bins=30,figsize=(15,15),grid=False)"
   ]
  },
  {
   "cell_type": "code",
   "execution_count": 13,
   "metadata": {},
   "outputs": [],
   "source": [
    "corr_matrix = df.corr()\n",
    "corr_matrix = corr_matrix.where(np.tril(np.ones(corr_matrix.shape)).astype(np.bool))"
   ]
  },
  {
   "cell_type": "code",
   "execution_count": 14,
   "metadata": {},
   "outputs": [
    {
     "data": {
      "text/plain": [
       "<matplotlib.axes._subplots.AxesSubplot at 0x1e807d2a508>"
      ]
     },
     "execution_count": 14,
     "metadata": {},
     "output_type": "execute_result"
    },
    {
     "data": {
      "image/png": "[encoded data removed]",
      "text/plain": [
       "<Figure size 1080x864 with 2 Axes>"
      ]
     },
     "metadata": {
      "needs_background": "light"
     },
     "output_type": "display_data"
    }
   ],
   "source": [
    "plt.figure(figsize=(15,12))\n",
    "sns.heatmap(corr_matrix, annot=True, center=0, cmap=\"Spectral\")"
   ]
  },
  {
   "cell_type": "code",
   "execution_count": 15,
   "metadata": {},
   "outputs": [
    {
     "data": {
      "text/plain": [
       "target                    1.0\n",
       "city                      NaN\n",
       "gender                    NaN\n",
       "relevent_experience       NaN\n",
       "enrolled_university       NaN\n",
       "education_level           NaN\n",
       "major_discipline          NaN\n",
       "experience                NaN\n",
       "company_size              NaN\n",
       "company_type              NaN\n",
       "last_new_job              NaN\n",
       "enrollee_id               NaN\n",
       "city_development_index    NaN\n",
       "training_hours            NaN\n",
       "Name: target, dtype: float64"
      ]
     },
     "execution_count": 15,
     "metadata": {},
     "output_type": "execute_result"
    }
   ],
   "source": [
    "corr_matrix['target'].sort_values(ascending=False)"
   ]
  },
  {
   "cell_type": "markdown",
   "metadata": {},
   "source": [
    "### Data Modelling"
   ]
  },
  {
   "cell_type": "code",
   "execution_count": 16,
   "metadata": {},
   "outputs": [],
   "source": [
    "from sklearn import preprocessing\n",
    "from sklearn.preprocessing import normalize"
   ]
  },
  {
   "cell_type": "code",
   "execution_count": 17,
   "metadata": {},
   "outputs": [],
   "source": [
    "from sklearn.linear_model import LinearRegression\n",
    "from sklearn.svm import SVC, LinearSVC\n",
    "from sklearn.ensemble import RandomForestClassifier\n",
    "from sklearn.neighbors import KNeighborsClassifier\n",
    "from sklearn.naive_bayes import GaussianNB\n",
    "from sklearn.linear_model import Perceptron\n",
    "from sklearn.linear_model import SGDClassifier\n",
    "from sklearn.tree import DecisionTreeClassifier"
   ]
  },
  {
   "cell_type": "code",
   "execution_count": 18,
   "metadata": {},
   "outputs": [],
   "source": [
    "X = df.drop('target',1) \n",
    "y = df.target"
   ]
  },
  {
   "cell_type": "code",
   "execution_count": 19,
   "metadata": {},
   "outputs": [],
   "source": [
    "X_train, X_test, y_train, y_test = train_test_split(X,y,test_size = 0.2, random_state= 50)"
   ]
  },
  {
   "cell_type": "code",
   "execution_count": 20,
   "metadata": {},
   "outputs": [],
   "source": [
    "#min_max_scaler = preprocessing.MinMaxScaler()\n",
    "#np_scaled = min_max_scaler.fit_transform(X_train)\n",
    "#X_train = pd.DataFrame(np_scaled)"
   ]
  },
  {
   "cell_type": "code",
   "execution_count": 21,
   "metadata": {},
   "outputs": [
    {
     "name": "stdout",
     "output_type": "stream",
     "text": [
      "<class 'pandas.core.frame.DataFrame'>\n",
      "Int64Index: 14687 entries, 8710 to 14000\n",
      "Data columns (total 13 columns):\n",
      "city                      14687 non-null int64\n",
      "gender                    14687 non-null int64\n",
      "relevent_experience       14687 non-null int64\n",
      "enrolled_university       14687 non-null int64\n",
      "education_level           14687 non-null int64\n",
      "major_discipline          14687 non-null int64\n",
      "experience                14687 non-null int64\n",
      "company_size              14687 non-null int64\n",
      "company_type              14687 non-null int64\n",
      "last_new_job              14687 non-null int64\n",
      "enrollee_id               14687 non-null int64\n",
      "city_development_index    14687 non-null float64\n",
      "training_hours            14687 non-null int64\n",
      "dtypes: float64(1), int64(12)\n",
      "memory usage: 1.6 MB\n"
     ]
    }
   ],
   "source": [
    "X_train.info()"
   ]
  },
  {
   "cell_type": "code",
   "execution_count": 22,
   "metadata": {},
   "outputs": [
    {
     "name": "stdout",
     "output_type": "stream",
     "text": [
      "X Train (14687, 13)\n",
      "X Test (3672, 13)\n",
      "y Train (14687,)\n",
      "y Test (3672,)\n"
     ]
    }
   ],
   "source": [
    "print('X Train' , X_train.shape)\n",
    "print('X Test' , X_test.shape)\n",
    "print('y Train' , y_train.shape)\n",
    "print('y Test' , y_test.shape)"
   ]
  },
  {
   "cell_type": "code",
   "execution_count": 23,
   "metadata": {},
   "outputs": [
    {
     "data": {
      "text/plain": [
       "0.8589324618736384"
      ]
     },
     "execution_count": 23,
     "metadata": {},
     "output_type": "execute_result"
    }
   ],
   "source": [
    "estimator=LogisticRegression()\n",
    "estimator.fit(X_train,y_train)\n",
    "# Predict on the test data\n",
    "ypred = estimator.predict(X_test)\n",
    "Log_acc = accuracy_score(y_test,ypred)\n",
    "Log_acc"
   ]
  },
  {
   "cell_type": "code",
   "execution_count": 24,
   "metadata": {},
   "outputs": [
    {
     "data": {
      "text/plain": [
       "0.8559368191721133"
      ]
     },
     "execution_count": 24,
     "metadata": {},
     "output_type": "execute_result"
    }
   ],
   "source": [
    "estimator=RandomForestClassifier(n_estimators=100)\n",
    "estimator.fit(X_train,y_train)\n",
    "# Predict on the test data\n",
    "ypred = estimator.predict(X_test)\n",
    "rf_acc = accuracy_score(y_test,ypred)\n",
    "rf_acc"
   ]
  },
  {
   "cell_type": "code",
   "execution_count": 25,
   "metadata": {},
   "outputs": [
    {
     "data": {
      "text/plain": [
       "0.7587145969498911"
      ]
     },
     "execution_count": 25,
     "metadata": {},
     "output_type": "execute_result"
    }
   ],
   "source": [
    "estimator=DecisionTreeClassifier()\n",
    "estimator.fit(X_train,y_train)\n",
    "# Predict on the test data\n",
    "ypred = estimator.predict(X_test)\n",
    "dtc_acc = accuracy_score(y_test,ypred)\n",
    "dtc_acc"
   ]
  },
  {
   "cell_type": "code",
   "execution_count": 26,
   "metadata": {},
   "outputs": [
    {
     "data": {
      "text/plain": [
       "0.8586601307189542"
      ]
     },
     "execution_count": 26,
     "metadata": {},
     "output_type": "execute_result"
    }
   ],
   "source": [
    "estimator=SGDClassifier()\n",
    "estimator.fit(X_train,y_train)\n",
    "# Predict on the test data\n",
    "ypred = estimator.predict(X_test)\n",
    "sgd_acc = accuracy_score(y_test,ypred)\n",
    "sgd_acc"
   ]
  },
  {
   "cell_type": "code",
   "execution_count": 27,
   "metadata": {},
   "outputs": [
    {
     "data": {
      "text/plain": [
       "0.8589324618736384"
      ]
     },
     "execution_count": 27,
     "metadata": {},
     "output_type": "execute_result"
    }
   ],
   "source": [
    "estimator=SVC()\n",
    "estimator.fit(X_train,y_train)\n",
    "# Predict on the test data\n",
    "ypred = estimator.predict(X_test)\n",
    "svc_acc = accuracy_score(y_test,ypred)\n",
    "svc_acc"
   ]
  },
  {
   "cell_type": "code",
   "execution_count": 28,
   "metadata": {},
   "outputs": [
    {
     "data": {
      "text/plain": [
       "0.8583877995642701"
      ]
     },
     "execution_count": 28,
     "metadata": {},
     "output_type": "execute_result"
    }
   ],
   "source": [
    "estimator=LinearSVC()\n",
    "estimator.fit(X_train,y_train)\n",
    "# Predict on the test data\n",
    "ypred = estimator.predict(X_test)\n",
    "lsvc_acc = accuracy_score(y_test,ypred)\n",
    "lsvc_acc"
   ]
  },
  {
   "cell_type": "code",
   "execution_count": 29,
   "metadata": {},
   "outputs": [
    {
     "data": {
      "text/plain": [
       "0.8589324618736384"
      ]
     },
     "execution_count": 29,
     "metadata": {},
     "output_type": "execute_result"
    }
   ],
   "source": [
    "estimator=GaussianNB()\n",
    "estimator.fit(X_train,y_train)\n",
    "# Predict on the test data\n",
    "ypred = estimator.predict(X_test)\n",
    "gnb_acc = accuracy_score(y_test,ypred)\n",
    "gnb_acc"
   ]
  },
  {
   "cell_type": "code",
   "execution_count": 30,
   "metadata": {},
   "outputs": [
    {
     "data": {
      "text/plain": [
       "0.8420479302832244"
      ]
     },
     "execution_count": 30,
     "metadata": {},
     "output_type": "execute_result"
    }
   ],
   "source": [
    "estimator=KNeighborsClassifier()\n",
    "estimator.fit(X_train,y_train)\n",
    "# Predict on the test data\n",
    "ypred = estimator.predict(X_test)\n",
    "knn_acc = accuracy_score(y_test,ypred)\n",
    "knn_acc"
   ]
  },
  {
   "cell_type": "markdown",
   "metadata": {},
   "source": [
    "### Scores of all Predictions"
   ]
  },
  {
   "cell_type": "code",
   "execution_count": 31,
   "metadata": {},
   "outputs": [
    {
     "data": {
      "text/html": [
       "<div>\n",
       "<style scoped>\n",
       "    .dataframe tbody tr th:only-of-type {\n",
       "        vertical-align: middle;\n",
       "    }\n",
       "\n",
       "    .dataframe tbody tr th {\n",
       "        vertical-align: top;\n",
       "    }\n",
       "\n",
       "    .dataframe thead th {\n",
       "        text-align: right;\n",
       "    }\n",
       "</style>\n",
       "<table border=\"1\" class=\"dataframe\">\n",
       "  <thead>\n",
       "    <tr style=\"text-align: right;\">\n",
       "      <th></th>\n",
       "      <th>Model</th>\n",
       "      <th>Score</th>\n",
       "    </tr>\n",
       "  </thead>\n",
       "  <tbody>\n",
       "    <tr>\n",
       "      <td>0</td>\n",
       "      <td>Logistic Regression</td>\n",
       "      <td>0.858932</td>\n",
       "    </tr>\n",
       "    <tr>\n",
       "      <td>4</td>\n",
       "      <td>Support Vector Machines</td>\n",
       "      <td>0.858932</td>\n",
       "    </tr>\n",
       "    <tr>\n",
       "      <td>6</td>\n",
       "      <td>Naive Bayes</td>\n",
       "      <td>0.858932</td>\n",
       "    </tr>\n",
       "    <tr>\n",
       "      <td>3</td>\n",
       "      <td>Stochastic Gradient Descent</td>\n",
       "      <td>0.858660</td>\n",
       "    </tr>\n",
       "    <tr>\n",
       "      <td>5</td>\n",
       "      <td>Linear SVC</td>\n",
       "      <td>0.858388</td>\n",
       "    </tr>\n",
       "    <tr>\n",
       "      <td>1</td>\n",
       "      <td>Random Forest</td>\n",
       "      <td>0.855937</td>\n",
       "    </tr>\n",
       "    <tr>\n",
       "      <td>7</td>\n",
       "      <td>KNN</td>\n",
       "      <td>0.842048</td>\n",
       "    </tr>\n",
       "    <tr>\n",
       "      <td>2</td>\n",
       "      <td>Decision Tree</td>\n",
       "      <td>0.758715</td>\n",
       "    </tr>\n",
       "  </tbody>\n",
       "</table>\n",
       "</div>"
      ],
      "text/plain": [
       "                         Model     Score\n",
       "0          Logistic Regression  0.858932\n",
       "4      Support Vector Machines  0.858932\n",
       "6                  Naive Bayes  0.858932\n",
       "3  Stochastic Gradient Descent  0.858660\n",
       "5                   Linear SVC  0.858388\n",
       "1                Random Forest  0.855937\n",
       "7                          KNN  0.842048\n",
       "2                Decision Tree  0.758715"
      ]
     },
     "execution_count": 31,
     "metadata": {},
     "output_type": "execute_result"
    }
   ],
   "source": [
    "models = pd.DataFrame({\n",
    "        'Model': ['Logistic Regression', 'Random Forest','Decision Tree','Stochastic Gradient Descent',\n",
    "                  'Support Vector Machines','Linear SVC','Naive Bayes','KNN'],\n",
    "        'Score': [Log_acc, rf_acc, dtc_acc, sgd_acc, svc_acc, lsvc_acc, gnb_acc, knn_acc]\n",
    "    })\n",
    "models.sort_values(by='Score', ascending=False)"
   ]
  },
  {
   "cell_type": "code",
   "execution_count": 32,
   "metadata": {},
   "outputs": [],
   "source": [
    "from sklearn.metrics import f1_score, confusion_matrix, classification_report\n",
    "from sklearn import metrics"
   ]
  },
  {
   "cell_type": "code",
   "execution_count": 33,
   "metadata": {},
   "outputs": [
    {
     "name": "stdout",
     "output_type": "stream",
     "text": [
      "Model Score:  0.8420479302832243\n",
      "Model Matrix:\n",
      " [[3077   77]\n",
      " [ 503   15]]\n",
      "Model Report:\n",
      "               precision    recall  f1-score   support\n",
      "\n",
      "           0       0.86      0.98      0.91      3154\n",
      "           1       0.16      0.03      0.05       518\n",
      "\n",
      "    accuracy                           0.84      3672\n",
      "   macro avg       0.51      0.50      0.48      3672\n",
      "weighted avg       0.76      0.84      0.79      3672\n",
      "\n"
     ]
    }
   ],
   "source": [
    "# Measure accuracy and model score\n",
    "matrix = confusion_matrix(y_test, ypred)\n",
    "score = f1_score(y_test, ypred, average='micro')\n",
    "report = classification_report(y_test, ypred)\n",
    "print('Model Score: ', score)\n",
    "print('Model Matrix:\\n', matrix)\n",
    "print('Model Report:\\n', report)"
   ]
  },
  {
   "cell_type": "code",
   "execution_count": 34,
   "metadata": {},
   "outputs": [],
   "source": [
    "from sklearn.metrics import roc_auc_score"
   ]
  },
  {
   "cell_type": "code",
   "execution_count": 35,
   "metadata": {},
   "outputs": [
    {
     "data": {
      "text/plain": [
       "0.502272042855429"
      ]
     },
     "execution_count": 35,
     "metadata": {},
     "output_type": "execute_result"
    }
   ],
   "source": [
    "auc_roc=roc_auc_score(y_test,ypred)\n",
    "auc_roc"
   ]
  },
  {
   "cell_type": "markdown",
   "metadata": {},
   "source": [
    "### Test data handeling"
   ]
  },
  {
   "cell_type": "code",
   "execution_count": 122,
   "metadata": {},
   "outputs": [],
   "source": [
    "#import data\n",
    "test = pd.read_csv('C:/Users/SiviSoft/Desktop/Bala/AV/HR Analytics/test.csv', header=0)"
   ]
  },
  {
   "cell_type": "code",
   "execution_count": 123,
   "metadata": {},
   "outputs": [
    {
     "data": {
      "text/html": [
       "<div>\n",
       "<style scoped>\n",
       "    .dataframe tbody tr th:only-of-type {\n",
       "        vertical-align: middle;\n",
       "    }\n",
       "\n",
       "    .dataframe tbody tr th {\n",
       "        vertical-align: top;\n",
       "    }\n",
       "\n",
       "    .dataframe thead th {\n",
       "        text-align: right;\n",
       "    }\n",
       "</style>\n",
       "<table border=\"1\" class=\"dataframe\">\n",
       "  <thead>\n",
       "    <tr style=\"text-align: right;\">\n",
       "      <th></th>\n",
       "      <th>enrollee_id</th>\n",
       "      <th>city</th>\n",
       "      <th>city_development_index</th>\n",
       "      <th>gender</th>\n",
       "      <th>relevent_experience</th>\n",
       "      <th>enrolled_university</th>\n",
       "      <th>education_level</th>\n",
       "      <th>major_discipline</th>\n",
       "      <th>experience</th>\n",
       "      <th>company_size</th>\n",
       "      <th>company_type</th>\n",
       "      <th>last_new_job</th>\n",
       "      <th>training_hours</th>\n",
       "    </tr>\n",
       "  </thead>\n",
       "  <tbody>\n",
       "    <tr>\n",
       "      <td>0</td>\n",
       "      <td>16548</td>\n",
       "      <td>city_33</td>\n",
       "      <td>0.448</td>\n",
       "      <td>NaN</td>\n",
       "      <td>No relevent experience</td>\n",
       "      <td>Full time course</td>\n",
       "      <td>Graduate</td>\n",
       "      <td>STEM</td>\n",
       "      <td>&lt;1</td>\n",
       "      <td>1000-4999</td>\n",
       "      <td>Public Sector</td>\n",
       "      <td>NaN</td>\n",
       "      <td>15</td>\n",
       "    </tr>\n",
       "    <tr>\n",
       "      <td>1</td>\n",
       "      <td>12036</td>\n",
       "      <td>city_28</td>\n",
       "      <td>0.939</td>\n",
       "      <td>Male</td>\n",
       "      <td>No relevent experience</td>\n",
       "      <td>no_enrollment</td>\n",
       "      <td>Graduate</td>\n",
       "      <td>STEM</td>\n",
       "      <td>&gt;20</td>\n",
       "      <td>50-99</td>\n",
       "      <td>Pvt Ltd</td>\n",
       "      <td>1</td>\n",
       "      <td>94</td>\n",
       "    </tr>\n",
       "    <tr>\n",
       "      <td>2</td>\n",
       "      <td>11061</td>\n",
       "      <td>city_103</td>\n",
       "      <td>0.920</td>\n",
       "      <td>Male</td>\n",
       "      <td>No relevent experience</td>\n",
       "      <td>Full time course</td>\n",
       "      <td>Graduate</td>\n",
       "      <td>STEM</td>\n",
       "      <td>3</td>\n",
       "      <td>NaN</td>\n",
       "      <td>NaN</td>\n",
       "      <td>1</td>\n",
       "      <td>17</td>\n",
       "    </tr>\n",
       "    <tr>\n",
       "      <td>3</td>\n",
       "      <td>5032</td>\n",
       "      <td>city_104</td>\n",
       "      <td>0.924</td>\n",
       "      <td>Male</td>\n",
       "      <td>No relevent experience</td>\n",
       "      <td>no_enrollment</td>\n",
       "      <td>Phd</td>\n",
       "      <td>STEM</td>\n",
       "      <td>&gt;20</td>\n",
       "      <td>50-99</td>\n",
       "      <td>Pvt Ltd</td>\n",
       "      <td>2</td>\n",
       "      <td>76</td>\n",
       "    </tr>\n",
       "    <tr>\n",
       "      <td>4</td>\n",
       "      <td>17599</td>\n",
       "      <td>city_77</td>\n",
       "      <td>0.830</td>\n",
       "      <td>Male</td>\n",
       "      <td>Has relevent experience</td>\n",
       "      <td>no_enrollment</td>\n",
       "      <td>Graduate</td>\n",
       "      <td>STEM</td>\n",
       "      <td>6</td>\n",
       "      <td>&lt;10</td>\n",
       "      <td>Pvt Ltd</td>\n",
       "      <td>2</td>\n",
       "      <td>65</td>\n",
       "    </tr>\n",
       "  </tbody>\n",
       "</table>\n",
       "</div>"
      ],
      "text/plain": [
       "   enrollee_id      city  city_development_index gender  \\\n",
       "0        16548   city_33                   0.448    NaN   \n",
       "1        12036   city_28                   0.939   Male   \n",
       "2        11061  city_103                   0.920   Male   \n",
       "3         5032  city_104                   0.924   Male   \n",
       "4        17599   city_77                   0.830   Male   \n",
       "\n",
       "       relevent_experience enrolled_university education_level  \\\n",
       "0   No relevent experience    Full time course        Graduate   \n",
       "1   No relevent experience       no_enrollment        Graduate   \n",
       "2   No relevent experience    Full time course        Graduate   \n",
       "3   No relevent experience       no_enrollment             Phd   \n",
       "4  Has relevent experience       no_enrollment        Graduate   \n",
       "\n",
       "  major_discipline experience company_size   company_type last_new_job  \\\n",
       "0             STEM         <1    1000-4999  Public Sector          NaN   \n",
       "1             STEM        >20        50-99        Pvt Ltd            1   \n",
       "2             STEM          3          NaN            NaN            1   \n",
       "3             STEM        >20        50-99        Pvt Ltd            2   \n",
       "4             STEM          6          <10        Pvt Ltd            2   \n",
       "\n",
       "   training_hours  \n",
       "0              15  \n",
       "1              94  \n",
       "2              17  \n",
       "3              76  \n",
       "4              65  "
      ]
     },
     "execution_count": 123,
     "metadata": {},
     "output_type": "execute_result"
    }
   ],
   "source": [
    "test.head()"
   ]
  },
  {
   "cell_type": "code",
   "execution_count": 124,
   "metadata": {},
   "outputs": [],
   "source": [
    "test['gender'].fillna(test['gender'].mode()[0], inplace=True) \n",
    "test['enrolled_university'].fillna(test['enrolled_university'].mode()[0], inplace=True)\n",
    "test['education_level'].fillna(test['education_level'].mode()[0], inplace=True)\n",
    "test['major_discipline'].fillna(test['major_discipline'].mode()[0], inplace=True)\n",
    "test['experience'].fillna(test['experience'].mode()[0], inplace=True)\n",
    "test['company_size'].fillna(test['company_size'].mode()[0], inplace=True)\n",
    "test['company_type'].fillna(test['company_type'].mode()[0], inplace=True)\n",
    "test['last_new_job'].fillna(test['last_new_job'].mode()[0], inplace=True)"
   ]
  },
  {
   "cell_type": "code",
   "execution_count": 125,
   "metadata": {},
   "outputs": [],
   "source": [
    "test_obj=test.select_dtypes(include='object')\n",
    "test_num=test.select_dtypes(include=['int64','float64'])"
   ]
  },
  {
   "cell_type": "code",
   "execution_count": 126,
   "metadata": {},
   "outputs": [],
   "source": [
    "odr = OrdinalEncoder()\n",
    "test_obj[:] = odr.fit_transform(test_obj[:])"
   ]
  },
  {
   "cell_type": "code",
   "execution_count": 127,
   "metadata": {},
   "outputs": [],
   "source": [
    "df=pd.concat([test_obj,test_num],axis=1)"
   ]
  },
  {
   "cell_type": "code",
   "execution_count": 128,
   "metadata": {},
   "outputs": [],
   "source": [
    "test_predictions = estimator.predict(df)"
   ]
  },
  {
   "cell_type": "code",
   "execution_count": 129,
   "metadata": {},
   "outputs": [],
   "source": [
    "enrollee_id = test['enrollee_id']"
   ]
  },
  {
   "cell_type": "code",
   "execution_count": 130,
   "metadata": {},
   "outputs": [],
   "source": [
    "submission_df_1 = pd.DataFrame({\n",
    "                  \"enrollee_id\": enrollee_id, \n",
    "                  \"target\": test_predictions})"
   ]
  },
  {
   "cell_type": "code",
   "execution_count": 131,
   "metadata": {},
   "outputs": [],
   "source": [
    "submission_df_1.to_csv('C:/Users/SiviSoft/Desktop/Bala/AV/HR Analytics/submission_HR(log_r3).csv', index=False)"
   ]
  },
  {
   "cell_type": "code",
   "execution_count": null,
   "metadata": {},
   "outputs": [],
   "source": []
  }
 ],
 "metadata": {
  "kernelspec": {
   "display_name": "Python 3",
   "language": "python",
   "name": "python3"
  },
  "language_info": {
   "codemirror_mode": {
    "name": "ipython",
    "version": 3
   },
   "file_extension": ".py",
   "mimetype": "text/x-python",
   "name": "python",
   "nbconvert_exporter": "python",
   "pygments_lexer": "ipython3",
   "version": "3.7.4"
  }
 },
 "nbformat": 4,
 "nbformat_minor": 2
}
